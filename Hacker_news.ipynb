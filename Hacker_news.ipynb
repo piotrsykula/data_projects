{
 "cells": [
  {
   "cell_type": "markdown",
   "metadata": {
    "collapsed": true
   },
   "source": [
    "# Hacker News"
   ]
  },
  {
   "cell_type": "markdown",
   "metadata": {},
   "source": [
    "Hacker News is a site where user post news from technology world. They receive votes, comments, general feedback, similar to reddit. It's also good site for startups, getting to the top of the Hacker News listings can really boost your project up.\n",
    "\n",
    "Our goal here is to know what hour is best to ask a question on Hacker News website to get the biggest feedback.\n",
    "\n",
    "First of all we need to collect and sort the data.\n",
    "Later on we will clean and prepare data for analysis, and last but not least we will analyze it."
   ]
  },
  {
   "cell_type": "code",
   "execution_count": 15,
   "metadata": {
    "scrolled": true
   },
   "outputs": [
    {
     "name": "stdout",
     "output_type": "stream",
     "text": [
      "['id', 'title', 'url', 'num_points', 'num_comments', 'author', 'created_at']\n"
     ]
    }
   ],
   "source": [
    "from csv import reader\n",
    "import datetime as dt\n",
    "opened = open('hacker_news.csv')\n",
    "read = reader(opened)\n",
    "hn = list(read)\n",
    "headers = hn[0]\n",
    "hn = hn[1:]\n",
    "print(headers)"
   ]
  },
  {
   "cell_type": "markdown",
   "metadata": {},
   "source": [
    "Every post has his own unique ID, you can set up title you want, paste an url and see your feedback with author and time created at next to it. \n",
    "    \n",
    "Let's see the first 5 posts from top."
   ]
  },
  {
   "cell_type": "code",
   "execution_count": 2,
   "metadata": {
    "scrolled": true
   },
   "outputs": [
    {
     "name": "stdout",
     "output_type": "stream",
     "text": [
      "[['12224879', 'Interactive Dynamic Video', 'http://www.interactivedynamicvideo.com/', '386', '52', 'ne0phyte', '8/4/2016 11:52'], ['10975351', 'How to Use Open Source and Shut the Fuck Up at the Same Time', 'http://hueniverse.com/2016/01/26/how-to-use-open-source-and-shut-the-fuck-up-at-the-same-time/', '39', '10', 'josep2', '1/26/2016 19:30'], ['11964716', \"Florida DJs May Face Felony for April Fools' Water Joke\", 'http://www.thewire.com/entertainment/2013/04/florida-djs-april-fools-water-joke/63798/', '2', '1', 'vezycash', '6/23/2016 22:20'], ['11919867', 'Technology ventures: From Idea to Enterprise', 'https://www.amazon.com/Technology-Ventures-Enterprise-Thomas-Byers/dp/0073523429', '3', '1', 'hswarna', '6/17/2016 0:01'], ['10301696', 'Note by Note: The Making of Steinway L1037 (2007)', 'http://www.nytimes.com/2007/11/07/movies/07stein.html?_r=0', '8', '2', 'walterbell', '9/30/2015 4:12']]\n"
     ]
    }
   ],
   "source": [
    "print(hn[:5])"
   ]
  },
  {
   "cell_type": "markdown",
   "metadata": {},
   "source": [
    "We can sort all the posts on 3 types. Ask posts, show posts and others. We will separate them now."
   ]
  },
  {
   "cell_type": "code",
   "execution_count": 16,
   "metadata": {},
   "outputs": [
    {
     "name": "stdout",
     "output_type": "stream",
     "text": [
      "1744\n",
      "1162\n",
      "17194\n",
      "[['12296411', 'Ask HN: How to improve my personal website?', '', '2', '6', 'ahmedbaracat', '8/16/2016 9:55'], ['10610020', 'Ask HN: Am I the only one outraged by Twitter shutting down share counts?', '', '28', '29', 'tkfx', '11/22/2015 13:43'], ['11610310', 'Ask HN: Aby recent changes to CSS that broke mobile?', '', '1', '1', 'polskibus', '5/2/2016 10:14']]\n"
     ]
    }
   ],
   "source": [
    "ask_posts = []\n",
    "show_posts = []\n",
    "other_posts = []\n",
    "for row in hn:\n",
    "    title = row[1]\n",
    "    if title.lower().startswith('ask hn'):\n",
    "        ask_posts.append(row)\n",
    "    elif title.lower().startswith('show hn'):\n",
    "        show_posts.append(row)\n",
    "    else:\n",
    "        other_posts.append(row)\n",
    "print(len(ask_posts))\n",
    "print(len(show_posts))\n",
    "print(len(other_posts))\n",
    "print(ask_posts[:3])"
   ]
  },
  {
   "cell_type": "markdown",
   "metadata": {},
   "source": [
    "There are 1744 ask posts, 1162 show posts and 17194 of other posts."
   ]
  },
  {
   "cell_type": "code",
   "execution_count": 4,
   "metadata": {},
   "outputs": [
    {
     "name": "stdout",
     "output_type": "stream",
     "text": [
      "24483\n"
     ]
    }
   ],
   "source": [
    "total_ask_comments=0\n",
    "for row in ask_posts:\n",
    "    num_of_comments = int(row[4])\n",
    "    total_ask_comments += num_of_comments\n",
    "    \n",
    "print(total_ask_comments)"
   ]
  },
  {
   "cell_type": "markdown",
   "metadata": {},
   "source": [
    "Total amount comments of ask posts is 24483."
   ]
  },
  {
   "cell_type": "code",
   "execution_count": 5,
   "metadata": {},
   "outputs": [
    {
     "name": "stdout",
     "output_type": "stream",
     "text": [
      "14\n"
     ]
    }
   ],
   "source": [
    "avg_ask_comments = total_ask_comments/len(ask_posts)\n",
    "print(int(avg_ask_comments))"
   ]
  },
  {
   "cell_type": "markdown",
   "metadata": {},
   "source": [
    "So it gives us 14 comments per ask post."
   ]
  },
  {
   "cell_type": "code",
   "execution_count": 6,
   "metadata": {},
   "outputs": [
    {
     "name": "stdout",
     "output_type": "stream",
     "text": [
      "10\n"
     ]
    }
   ],
   "source": [
    "total_show_comments = 0\n",
    "for row in show_posts:\n",
    "    value = int(row[4])\n",
    "    total_show_comments += value\n",
    "avg_show_comments = total_show_comments/len(show_posts)\n",
    "print(int(avg_show_comments))\n",
    "    "
   ]
  },
  {
   "cell_type": "markdown",
   "metadata": {},
   "source": [
    "And per show posts there are 10 comments on average.\n",
    "Overall the ask posts have average 4 comments per post more than show posts.\n",
    "\n",
    "Now we will list how many posts and comments of ask posts there are each hour."
   ]
  },
  {
   "cell_type": "code",
   "execution_count": 26,
   "metadata": {},
   "outputs": [
    {
     "name": "stdout",
     "output_type": "stream",
     "text": [
      "{'09': 251, '07': 267, '04': 337, '06': 397, '03': 421, '00': 447, '05': 464, '22': 479, '08': 492, '23': 543, '11': 641, '01': 683, '12': 687, '10': 793, '17': 1146, '19': 1188, '13': 1253, '02': 1381, '14': 1416, '18': 1439, '20': 1722, '21': 1745, '16': 1814, '15': 4477}\n"
     ]
    }
   ],
   "source": [
    "import datetime as dt\n",
    "result_list = []\n",
    "for row in ask_posts:\n",
    "    time_created = row[6]\n",
    "    time_comments = int(row[4])\n",
    "    result_list.append([time_created, time_comments])\n",
    "counts_by_hour = {}\n",
    "comments_by_hour = {}\n",
    "for row in result_list:\n",
    "    hour_str = row[0]\n",
    "    hour_dt =dt.datetime.strptime(hour_str, \"%m/%d/%Y %H:%M\")\n",
    "    condition = dt.datetime.strftime(hour_dt, \"%H\")\n",
    "    if condition not in counts_by_hour:\n",
    "        counts_by_hour[condition] = 1\n",
    "        comments_by_hour[condition] = row[1]\n",
    "    else:\n",
    "        counts_by_hour[condition] += 1\n",
    "        comments_by_hour[condition] += row[1]\n",
    "        \n",
    "print({k: v for k, v in sorted(comments_by_hour.items(), key=lambda item: item[1])})\n",
    "\n",
    "  \n",
    "    "
   ]
  },
  {
   "cell_type": "markdown",
   "metadata": {},
   "source": [
    "Above are comments by hour."
   ]
  },
  {
   "cell_type": "code",
   "execution_count": 25,
   "metadata": {},
   "outputs": [
    {
     "name": "stdout",
     "output_type": "stream",
     "text": [
      "{'07': 34, '06': 44, '09': 45, '05': 46, '04': 47, '08': 48, '03': 54, '00': 55, '02': 58, '11': 58, '10': 59, '01': 60, '23': 68, '22': 71, '12': 73, '20': 80, '13': 85, '17': 100, '14': 107, '16': 108, '21': 109, '18': 109, '19': 110, '15': 116}\n"
     ]
    }
   ],
   "source": [
    "print({k: v for k, v in sorted(counts_by_hour.items(), key=lambda item: item[1])})"
   ]
  },
  {
   "cell_type": "markdown",
   "metadata": {},
   "source": [
    "And here are posts per hour.\n",
    "We can notice that in both cases, best time to post at is 15 p.m.\n",
    "\n",
    "To have better statistics, now we will calculate average comments per hour."
   ]
  },
  {
   "cell_type": "code",
   "execution_count": 31,
   "metadata": {},
   "outputs": [
    {
     "name": "stdout",
     "output_type": "stream",
     "text": [
      "[['00', 8.13], ['01', 11.38], ['02', 23.81], ['03', 7.8], ['04', 7.17], ['05', 10.09], ['06', 9.02], ['07', 7.85], ['08', 10.25], ['09', 5.58], ['10', 13.44], ['11', 11.05], ['12', 9.41], ['13', 14.74], ['14', 13.23], ['15', 38.59], ['16', 16.8], ['17', 11.46], ['18', 13.2], ['19', 10.8], ['20', 21.52], ['21', 16.01], ['22', 6.75], ['23', 7.99]]\n"
     ]
    }
   ],
   "source": [
    "average_by_hour = []\n",
    "\n",
    "for hr in sorted_comments_by_hour:\n",
    "    average_by_hour.append([hr, round(sorted_comments_by_hour[hr]/sorted_counts_by_hour[hr], 2)])\n",
    "print(average_by_hour)"
   ]
  },
  {
   "cell_type": "markdown",
   "metadata": {},
   "source": [
    "If we want we can also swap the values."
   ]
  },
  {
   "cell_type": "code",
   "execution_count": 10,
   "metadata": {},
   "outputs": [
    {
     "name": "stdout",
     "output_type": "stream",
     "text": [
      "[[8.13, '00'], [11.38, '01'], [23.81, '02'], [7.8, '03'], [7.17, '04'], [10.09, '05'], [9.02, '06'], [7.85, '07'], [10.25, '08'], [5.58, '09'], [13.44, '10'], [11.05, '11'], [9.41, '12'], [14.74, '13'], [13.23, '14'], [38.59, '15'], [16.8, '16'], [11.46, '17'], [13.2, '18'], [10.8, '19'], [21.52, '20'], [16.01, '21'], [6.75, '22'], [7.99, '23']]\n"
     ]
    }
   ],
   "source": [
    "swap_avg_by_hour = []\n",
    "for row in average_by_hour:\n",
    "    swap_avg_by_hour.append([round(row[1], 2), row[0]])\n",
    "\n",
    "print(swap_avg_by_hour)"
   ]
  },
  {
   "cell_type": "markdown",
   "metadata": {},
   "source": [
    "#### Top 5 Hours for Ask Posts Comments"
   ]
  },
  {
   "cell_type": "code",
   "execution_count": 13,
   "metadata": {
    "scrolled": true
   },
   "outputs": [
    {
     "name": "stdout",
     "output_type": "stream",
     "text": [
      "15:00: 38.59 average comments per post\n",
      "02:00: 23.81 average comments per post\n",
      "20:00: 21.52 average comments per post\n",
      "16:00: 16.8 average comments per post\n",
      "21:00: 16.01 average comments per post\n"
     ]
    }
   ],
   "source": [
    "for row in sorted_swap[:5]:\n",
    "    time_object = dt.datetime.strptime(row[1], \"%H\")\n",
    "    time_final = dt.datetime.strftime(time_object, \"%H:%M\")\n",
    "    final = \"{}: {} average comments per post\".format(time_final, row[0])\n",
    "    print(final)"
   ]
  },
  {
   "cell_type": "code",
   "execution_count": null,
   "metadata": {},
   "outputs": [],
   "source": []
  }
 ],
 "metadata": {
  "kernelspec": {
   "display_name": "Python 3",
   "language": "python",
   "name": "python3"
  },
  "language_info": {
   "codemirror_mode": {
    "name": "ipython",
    "version": 3
   },
   "file_extension": ".py",
   "mimetype": "text/x-python",
   "name": "python",
   "nbconvert_exporter": "python",
   "pygments_lexer": "ipython3",
   "version": "3.8.2"
  }
 },
 "nbformat": 4,
 "nbformat_minor": 2
}
